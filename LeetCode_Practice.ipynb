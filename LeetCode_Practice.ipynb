{
 "cells": [
  {
   "cell_type": "markdown",
   "id": "ee56a805",
   "metadata": {},
   "source": [
    "## LeetCode Problem:  Maximum Product of Three Numbers"
   ]
  },
  {
   "cell_type": "markdown",
   "id": "39f5eae7",
   "metadata": {},
   "source": [
    " Given an integer array nums, find three numbers whose product is maximum and return the maximum product.\n",
    " \n",
    "**Example 1:**\n",
    "\n",
    "* Input: nums = [1,2,3]\n",
    "* Output: 6\n",
    "\n",
    "**Example 2:**\n",
    "\n",
    "* Input: nums = [1,2,3,4]\n",
    "* Output: 24\n",
    "\n",
    "**Example 3:**\n",
    "\n",
    "* Input: nums = [-1,-2,-3]\n",
    "* Output: -6\n",
    " \n",
    "**Constraints:**\n",
    "\n",
    "- 3 <= nums.length <= 104\n",
    "- -1000 <= nums[i] <= 1000"
   ]
  },
  {
   "cell_type": "markdown",
   "id": "1af93aa5",
   "metadata": {},
   "source": [
    "**Procedure:**\n",
    "Sort the list. The maximum product could be the product of the first 3 numbers, or the product of the last 3 numbers, or the product of the first 2 numbers and the last number."
   ]
  },
  {
   "cell_type": "code",
   "execution_count": 64,
   "id": "336f74ba",
   "metadata": {},
   "outputs": [],
   "source": [
    "def maximumProduct(nums):\n",
    "    nums.sort()\n",
    "    return max(nums[-1]*nums[-2]*nums[-3],nums[0]*nums[1]*nums[-1])"
   ]
  },
  {
   "cell_type": "code",
   "execution_count": 65,
   "id": "3bf5bb31",
   "metadata": {},
   "outputs": [
    {
     "data": {
      "text/plain": [
       "6"
      ]
     },
     "execution_count": 65,
     "metadata": {},
     "output_type": "execute_result"
    }
   ],
   "source": [
    "maximumProduct([1,2,3])"
   ]
  },
  {
   "cell_type": "code",
   "execution_count": 66,
   "id": "23d46531",
   "metadata": {},
   "outputs": [
    {
     "data": {
      "text/plain": [
       "24"
      ]
     },
     "execution_count": 66,
     "metadata": {},
     "output_type": "execute_result"
    }
   ],
   "source": [
    "maximumProduct([1,2,3,4])"
   ]
  },
  {
   "cell_type": "code",
   "execution_count": 67,
   "id": "916bb71d",
   "metadata": {},
   "outputs": [
    {
     "data": {
      "text/plain": [
       "-6"
      ]
     },
     "execution_count": 67,
     "metadata": {},
     "output_type": "execute_result"
    }
   ],
   "source": [
    "maximumProduct([-1,-2,-3])"
   ]
  },
  {
   "cell_type": "markdown",
   "id": "1372ca2f",
   "metadata": {},
   "source": [
    "## LeetCode Problem: Richest Customer Wealth"
   ]
  },
  {
   "cell_type": "markdown",
   "id": "81bca55b",
   "metadata": {},
   "source": [
    "You are given an m x n integer grid accounts where accounts[i][j] is the amount of money the ith customer has in the jth bank. Return the wealth that the richest customer has.\n",
    "\n",
    "A customer's wealth is the amount of money they have in all their bank accounts. The richest customer is the customer that has the maximum wealth.\n",
    "\n",
    "**Example 1:**\n",
    "\n",
    "* Input: accounts = [[1,2,3],[3,2,1]]\n",
    "* Output: 6\n",
    "\n",
    "**Explanation:**\n",
    "\n",
    "1st customer has wealth = 1 + 2 + 3 = 6,\n",
    "2nd customer has wealth = 3 + 2 + 1 = 6.\n",
    "Both customers are considered the richest with a wealth of 6 each, so return 6.\n",
    "\n",
    "**Example 2:**\n",
    "\n",
    "* Input: accounts = [[1,5],[7,3],[3,5]]\n",
    "* Output: 10\n",
    "\n",
    "**Explanation:** \n",
    "\n",
    "1st customer has wealth = 6,\n",
    "2nd customer has wealth = 10, \n",
    "3rd customer has wealth = 8.\n",
    "The 2nd customer is the richest with a wealth of 10.\n",
    "\n",
    "**Example 3:**\n",
    "\n",
    "* Input: accounts = [[2,8,7],[7,1,3],[1,9,5]]\n",
    "* Output: 17\n",
    "\n",
    "**Constraints:**\n",
    "\n",
    "- m == accounts.length\n",
    "- n == accounts[i].length\n",
    "- 1 <= m, n <= 50\n",
    "- 1 <= accounts[i][j] <= 100"
   ]
  },
  {
   "cell_type": "code",
   "execution_count": 101,
   "id": "e17b3b7c",
   "metadata": {},
   "outputs": [],
   "source": [
    "def maximumWealth(accounts):\n",
    "       \n",
    "    return max([sum(account) for account in accounts])"
   ]
  },
  {
   "cell_type": "code",
   "execution_count": 102,
   "id": "a2e8ac13",
   "metadata": {},
   "outputs": [
    {
     "data": {
      "text/plain": [
       "6"
      ]
     },
     "execution_count": 102,
     "metadata": {},
     "output_type": "execute_result"
    }
   ],
   "source": [
    "maximumWealth([[1,2,3],[3,2,1]])"
   ]
  },
  {
   "cell_type": "code",
   "execution_count": 103,
   "id": "fe642b29",
   "metadata": {},
   "outputs": [
    {
     "data": {
      "text/plain": [
       "10"
      ]
     },
     "execution_count": 103,
     "metadata": {},
     "output_type": "execute_result"
    }
   ],
   "source": [
    "maximumWealth([[1,5],[7,3],[3,5]])"
   ]
  },
  {
   "cell_type": "code",
   "execution_count": 104,
   "id": "117f12b8",
   "metadata": {},
   "outputs": [
    {
     "data": {
      "text/plain": [
       "17"
      ]
     },
     "execution_count": 104,
     "metadata": {},
     "output_type": "execute_result"
    }
   ],
   "source": [
    "maximumWealth([[2,8,7],[7,1,3],[1,9,5]])"
   ]
  },
  {
   "cell_type": "markdown",
   "id": "2cf095b5",
   "metadata": {},
   "source": [
    "## LeetCode Problem: Shuffle the Array"
   ]
  },
  {
   "cell_type": "markdown",
   "id": "cdb4c9a3",
   "metadata": {},
   "source": [
    "Given the array nums consisting of 2n elements in the form [x1,x2,...,xn,y1,y2,...,yn].\n",
    "\n",
    "Return the array in the form [x1,y1,x2,y2,...,xn,yn].\n",
    "\n",
    "**Example 1:**\n",
    "\n",
    "- Input: nums = [2,5,1,3,4,7], n = 3\n",
    "- Output: [2,3,5,4,1,7] \n",
    "\n",
    "**Explanation:** \n",
    "  Since x1=2, x2=5, x3=1, y1=3, y2=4, y3=7 then the answer is [2,3,5,4,1,7].\n",
    "\n",
    "**Example 2:**\n",
    "\n",
    "- Input: nums = [1,2,3,4,4,3,2,1], n = 4\n",
    "- Output: [1,4,2,3,3,2,4,1]\n",
    "\n",
    "**Example 3:**\n",
    "\n",
    "- Input: nums = [1,1,2,2], n = 2\n",
    "- Output: [1,2,1,2]\n",
    "\n",
    "**Constraints:**\n",
    "\n",
    "- 1 <= n <= 500\n",
    "- nums.length == 2n\n",
    "- 1 <= nums[i] <= 10^3"
   ]
  },
  {
   "cell_type": "code",
   "execution_count": 78,
   "id": "5d69a30e",
   "metadata": {},
   "outputs": [],
   "source": [
    " def shuffle(nums, n):\n",
    "        \n",
    "    results = []\n",
    "    j = n\n",
    "    for i in range(0, n):\n",
    "        results.append(nums[i])\n",
    "        results.append(nums[j])\n",
    "        j += 1\n",
    "            \n",
    "    return results"
   ]
  },
  {
   "cell_type": "code",
   "execution_count": 79,
   "id": "cb959553",
   "metadata": {},
   "outputs": [
    {
     "data": {
      "text/plain": [
       "[2, 3, 5, 4, 1, 7]"
      ]
     },
     "execution_count": 79,
     "metadata": {},
     "output_type": "execute_result"
    }
   ],
   "source": [
    "shuffle([2,5,1,3,4,7], 3)"
   ]
  },
  {
   "cell_type": "code",
   "execution_count": 80,
   "id": "430cd717",
   "metadata": {},
   "outputs": [
    {
     "data": {
      "text/plain": [
       "[1, 4, 2, 3, 3, 2, 4, 1]"
      ]
     },
     "execution_count": 80,
     "metadata": {},
     "output_type": "execute_result"
    }
   ],
   "source": [
    "shuffle([1,2,3,4,4,3,2,1], 4)"
   ]
  },
  {
   "cell_type": "code",
   "execution_count": 48,
   "id": "6a68a21c",
   "metadata": {},
   "outputs": [
    {
     "data": {
      "text/plain": [
       "[1, 2, 1, 2]"
      ]
     },
     "execution_count": 48,
     "metadata": {},
     "output_type": "execute_result"
    }
   ],
   "source": [
    "shuffle([1,1,2,2], 2)"
   ]
  },
  {
   "cell_type": "markdown",
   "id": "5c6cacb3",
   "metadata": {},
   "source": [
    "## LeetCode Problem:Valid Perfect Square"
   ]
  },
  {
   "cell_type": "markdown",
   "id": "757fe76e",
   "metadata": {},
   "source": [
    "Given a positive integer num, write a function which returns True if num is a perfect square else False.\n",
    "\n",
    "**Follow up:** Do not use any built-in library function such as sqrt.\n",
    "\n",
    "**Example 1:**\n",
    "\n",
    "- Input: num = 16\n",
    "- Output: true\n",
    "\n",
    "**Example 2:**\n",
    "\n",
    "- Input: num = 14\n",
    "- Output: false\n",
    "\n",
    "**Constraints:**\n",
    "\n",
    "- 1 <= num <= 2^31 - 1"
   ]
  },
  {
   "cell_type": "code",
   "execution_count": 81,
   "id": "5e7a0de6",
   "metadata": {},
   "outputs": [],
   "source": [
    "def isPerfectSquare(num):\n",
    "    x = num ** 0.5\n",
    "    return x == int(x)"
   ]
  },
  {
   "cell_type": "code",
   "execution_count": 82,
   "id": "268148f4",
   "metadata": {},
   "outputs": [
    {
     "data": {
      "text/plain": [
       "True"
      ]
     },
     "execution_count": 82,
     "metadata": {},
     "output_type": "execute_result"
    }
   ],
   "source": [
    " isPerfectSquare(16)"
   ]
  },
  {
   "cell_type": "code",
   "execution_count": 83,
   "id": "62b81144",
   "metadata": {},
   "outputs": [
    {
     "data": {
      "text/plain": [
       "False"
      ]
     },
     "execution_count": 83,
     "metadata": {},
     "output_type": "execute_result"
    }
   ],
   "source": [
    "isPerfectSquare(14)"
   ]
  },
  {
   "cell_type": "code",
   "execution_count": null,
   "id": "1d8273c5",
   "metadata": {},
   "outputs": [],
   "source": []
  }
 ],
 "metadata": {
  "kernelspec": {
   "display_name": "Python 3",
   "language": "python",
   "name": "python3"
  },
  "language_info": {
   "codemirror_mode": {
    "name": "ipython",
    "version": 3
   },
   "file_extension": ".py",
   "mimetype": "text/x-python",
   "name": "python",
   "nbconvert_exporter": "python",
   "pygments_lexer": "ipython3",
   "version": "3.8.8"
  }
 },
 "nbformat": 4,
 "nbformat_minor": 5
}
