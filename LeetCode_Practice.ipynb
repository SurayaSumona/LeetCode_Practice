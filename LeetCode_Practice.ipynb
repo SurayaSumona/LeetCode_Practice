{
 "cells": [
  {
   "cell_type": "markdown",
   "id": "bb644cf1",
   "metadata": {},
   "source": [
    "## LeetCode Problem:  Maximum Product of Three Numbers"
   ]
  },
  {
   "cell_type": "markdown",
   "id": "2a457b2d",
   "metadata": {},
   "source": [
    " Given an integer array nums, find three numbers whose product is maximum and return the maximum product.\n",
    " \n",
    "**Example 1:**\n",
    "\n",
    "* Input: nums = [1,2,3]\n",
    "* Output: 6\n",
    "\n",
    "**Example 2:**\n",
    "\n",
    "* Input: nums = [1,2,3,4]\n",
    "* Output: 24\n",
    "\n",
    "**Example 3:**\n",
    "\n",
    "* Input: nums = [-1,-2,-3]\n",
    "* Output: -6\n",
    " \n",
    "**Constraints:**\n",
    "\n",
    "- 3 <= nums.length <= 104\n",
    "- -1000 <= nums[i] <= 1000"
   ]
  },
  {
   "cell_type": "markdown",
   "id": "4d1a1ede",
   "metadata": {},
   "source": [
    "**Procedure:**\n",
    "Sort the list. The maximum product could be the product of the first 3 numbers, or the product of the last 3 numbers, or the product of the first 2 numbers and the last number."
   ]
  },
  {
   "cell_type": "code",
   "execution_count": 64,
   "id": "05b22fc5",
   "metadata": {},
   "outputs": [],
   "source": [
    "def maximumProduct(nums):\n",
    "    nums.sort()\n",
    "    return max(nums[-1]*nums[-2]*nums[-3],nums[0]*nums[1]*nums[-1])"
   ]
  },
  {
   "cell_type": "code",
   "execution_count": 65,
   "id": "e8f59a87",
   "metadata": {},
   "outputs": [
    {
     "data": {
      "text/plain": [
       "6"
      ]
     },
     "execution_count": 65,
     "metadata": {},
     "output_type": "execute_result"
    }
   ],
   "source": [
    "maximumProduct([1,2,3])"
   ]
  },
  {
   "cell_type": "code",
   "execution_count": 66,
   "id": "eb0f7945",
   "metadata": {},
   "outputs": [
    {
     "data": {
      "text/plain": [
       "24"
      ]
     },
     "execution_count": 66,
     "metadata": {},
     "output_type": "execute_result"
    }
   ],
   "source": [
    "maximumProduct([1,2,3,4])"
   ]
  },
  {
   "cell_type": "code",
   "execution_count": 67,
   "id": "9fc35696",
   "metadata": {},
   "outputs": [
    {
     "data": {
      "text/plain": [
       "-6"
      ]
     },
     "execution_count": 67,
     "metadata": {},
     "output_type": "execute_result"
    }
   ],
   "source": [
    "maximumProduct([-1,-2,-3])"
   ]
  },
  {
   "cell_type": "markdown",
   "id": "2d4967f4",
   "metadata": {},
   "source": [
    "## LeetCode Problem: Richest Customer Wealth"
   ]
  },
  {
   "cell_type": "markdown",
   "id": "55aaf9c4",
   "metadata": {},
   "source": [
    "You are given an m x n integer grid accounts where accounts[i][j] is the amount of money the ith customer has in the jth bank. Return the wealth that the richest customer has.\n",
    "\n",
    "A customer's wealth is the amount of money they have in all their bank accounts. The richest customer is the customer that has the maximum wealth.\n",
    "\n",
    "**Example 1:**\n",
    "\n",
    "* Input: accounts = [[1,2,3],[3,2,1]]\n",
    "* Output: 6\n",
    "\n",
    "**Explanation:**\n",
    "\n",
    "1st customer has wealth = 1 + 2 + 3 = 6,\n",
    "2nd customer has wealth = 3 + 2 + 1 = 6.\n",
    "Both customers are considered the richest with a wealth of 6 each, so return 6.\n",
    "\n",
    "**Example 2:**\n",
    "\n",
    "* Input: accounts = [[1,5],[7,3],[3,5]]\n",
    "* Output: 10\n",
    "\n",
    "**Explanation:** \n",
    "\n",
    "1st customer has wealth = 6,\n",
    "2nd customer has wealth = 10, \n",
    "3rd customer has wealth = 8.\n",
    "The 2nd customer is the richest with a wealth of 10.\n",
    "\n",
    "**Example 3:**\n",
    "\n",
    "* Input: accounts = [[2,8,7],[7,1,3],[1,9,5]]\n",
    "* Output: 17\n",
    "\n",
    "**Constraints:**\n",
    "\n",
    "- m == accounts.length\n",
    "- n == accounts[i].length\n",
    "- 1 <= m, n <= 50\n",
    "- 1 <= accounts[i][j] <= 100"
   ]
  },
  {
   "cell_type": "code",
   "execution_count": 101,
   "id": "6a9f6e31",
   "metadata": {},
   "outputs": [],
   "source": [
    "def maximumWealth(accounts):\n",
    "       \n",
    "    return max([sum(account) for account in accounts])"
   ]
  },
  {
   "cell_type": "code",
   "execution_count": 102,
   "id": "f24caec6",
   "metadata": {},
   "outputs": [
    {
     "data": {
      "text/plain": [
       "6"
      ]
     },
     "execution_count": 102,
     "metadata": {},
     "output_type": "execute_result"
    }
   ],
   "source": [
    "maximumWealth([[1,2,3],[3,2,1]])"
   ]
  },
  {
   "cell_type": "code",
   "execution_count": 103,
   "id": "b0e8836a",
   "metadata": {},
   "outputs": [
    {
     "data": {
      "text/plain": [
       "10"
      ]
     },
     "execution_count": 103,
     "metadata": {},
     "output_type": "execute_result"
    }
   ],
   "source": [
    "maximumWealth([[1,5],[7,3],[3,5]])"
   ]
  },
  {
   "cell_type": "code",
   "execution_count": 104,
   "id": "1d916f33",
   "metadata": {},
   "outputs": [
    {
     "data": {
      "text/plain": [
       "17"
      ]
     },
     "execution_count": 104,
     "metadata": {},
     "output_type": "execute_result"
    }
   ],
   "source": [
    "maximumWealth([[2,8,7],[7,1,3],[1,9,5]])"
   ]
  },
  {
   "cell_type": "markdown",
   "id": "94379671",
   "metadata": {},
   "source": [
    "## LeetCode Problem: Shuffle the Array"
   ]
  },
  {
   "cell_type": "markdown",
   "id": "b5bce139",
   "metadata": {},
   "source": [
    "Given the array nums consisting of 2n elements in the form [x1,x2,...,xn,y1,y2,...,yn].\n",
    "\n",
    "Return the array in the form [x1,y1,x2,y2,...,xn,yn].\n",
    "\n",
    "**Example 1:**\n",
    "\n",
    "- Input: nums = [2,5,1,3,4,7], n = 3\n",
    "- Output: [2,3,5,4,1,7] \n",
    "**Explanation:** Since x1=2, x2=5, x3=1, y1=3, y2=4, y3=7 then the answer is [2,3,5,4,1,7].\n",
    "\n",
    "**Example 2:**\n",
    "\n",
    "- Input: nums = [1,2,3,4,4,3,2,1], n = 4\n",
    "- Output: [1,4,2,3,3,2,4,1]\n",
    "\n",
    "**Example 3:**\n",
    "\n",
    "- Input: nums = [1,1,2,2], n = 2\n",
    "- Output: [1,2,1,2]\n",
    "\n",
    "**Constraints:**\n",
    "\n",
    "- 1 <= n <= 500\n",
    "- nums.length == 2n\n",
    "- 1 <= nums[i] <= 10^3"
   ]
  },
  {
   "cell_type": "code",
   "execution_count": 78,
   "id": "4f216fbe",
   "metadata": {},
   "outputs": [],
   "source": [
    " def shuffle(nums, n):\n",
    "        \n",
    "    results = []\n",
    "    j = n\n",
    "    for i in range(0, n):\n",
    "        results.append(nums[i])\n",
    "        results.append(nums[j])\n",
    "        j += 1\n",
    "            \n",
    "    return results"
   ]
  },
  {
   "cell_type": "code",
   "execution_count": 79,
   "id": "1305e203",
   "metadata": {},
   "outputs": [
    {
     "data": {
      "text/plain": [
       "[2, 3, 5, 4, 1, 7]"
      ]
     },
     "execution_count": 79,
     "metadata": {},
     "output_type": "execute_result"
    }
   ],
   "source": [
    "shuffle([2,5,1,3,4,7], 3)"
   ]
  },
  {
   "cell_type": "code",
   "execution_count": 80,
   "id": "2162e4a1",
   "metadata": {},
   "outputs": [
    {
     "data": {
      "text/plain": [
       "[1, 4, 2, 3, 3, 2, 4, 1]"
      ]
     },
     "execution_count": 80,
     "metadata": {},
     "output_type": "execute_result"
    }
   ],
   "source": [
    "shuffle([1,2,3,4,4,3,2,1], 4)"
   ]
  },
  {
   "cell_type": "code",
   "execution_count": 48,
   "id": "5fd33a5b",
   "metadata": {},
   "outputs": [
    {
     "data": {
      "text/plain": [
       "[1, 2, 1, 2]"
      ]
     },
     "execution_count": 48,
     "metadata": {},
     "output_type": "execute_result"
    }
   ],
   "source": [
    "shuffle([1,1,2,2], 2)"
   ]
  },
  {
   "cell_type": "markdown",
   "id": "be064aa8",
   "metadata": {},
   "source": [
    "## LeetCode Problem:Valid Perfect Square"
   ]
  },
  {
   "cell_type": "markdown",
   "id": "88a02652",
   "metadata": {},
   "source": [
    "Given a positive integer num, write a function which returns True if num is a perfect square else False.\n",
    "\n",
    "**Follow up:** Do not use any built-in library function such as sqrt.\n",
    "\n",
    "**Example 1:**\n",
    "\n",
    "- Input: num = 16\n",
    "- Output: true\n",
    "\n",
    "**Example 2:**\n",
    "\n",
    "- Input: num = 14\n",
    "- Output: false\n",
    "\n",
    "**Constraints:**\n",
    "\n",
    "- 1 <= num <= 2^31 - 1"
   ]
  },
  {
   "cell_type": "code",
   "execution_count": 81,
   "id": "6b0a7b9b",
   "metadata": {},
   "outputs": [],
   "source": [
    "def isPerfectSquare(num):\n",
    "    x = num ** 0.5\n",
    "    return x == int(x)"
   ]
  },
  {
   "cell_type": "code",
   "execution_count": 82,
   "id": "19de1687",
   "metadata": {},
   "outputs": [
    {
     "data": {
      "text/plain": [
       "True"
      ]
     },
     "execution_count": 82,
     "metadata": {},
     "output_type": "execute_result"
    }
   ],
   "source": [
    " isPerfectSquare(16)"
   ]
  },
  {
   "cell_type": "code",
   "execution_count": 83,
   "id": "b1665fa6",
   "metadata": {},
   "outputs": [
    {
     "data": {
      "text/plain": [
       "False"
      ]
     },
     "execution_count": 83,
     "metadata": {},
     "output_type": "execute_result"
    }
   ],
   "source": [
    "isPerfectSquare(14)"
   ]
  },
  {
   "cell_type": "code",
   "execution_count": null,
   "id": "a89e52ed",
   "metadata": {},
   "outputs": [],
   "source": []
  }
 ],
 "metadata": {
  "kernelspec": {
   "display_name": "Python 3",
   "language": "python",
   "name": "python3"
  },
  "language_info": {
   "codemirror_mode": {
    "name": "ipython",
    "version": 3
   },
   "file_extension": ".py",
   "mimetype": "text/x-python",
   "name": "python",
   "nbconvert_exporter": "python",
   "pygments_lexer": "ipython3",
   "version": "3.8.8"
  }
 },
 "nbformat": 4,
 "nbformat_minor": 5
}
