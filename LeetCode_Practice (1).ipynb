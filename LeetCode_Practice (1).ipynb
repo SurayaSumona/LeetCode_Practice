{
 "cells": [
  {
   "cell_type": "markdown",
   "id": "69d06bbe",
   "metadata": {},
   "source": [
    "## LeetCode Problem:  Maximum Product of Three Numbers"
   ]
  },
  {
   "cell_type": "markdown",
   "id": "9c5836f9",
   "metadata": {},
   "source": [
    " Given an integer array nums, find three numbers whose product is maximum and return the maximum product.\n",
    " \n",
    "**Example 1:**\n",
    "\n",
    "* Input: nums = [1,2,3]\n",
    "* Output: 6\n",
    "\n",
    "**Example 2:**\n",
    "\n",
    "* Input: nums = [1,2,3,4]\n",
    "* Output: 24\n",
    "\n",
    "**Example 3:**\n",
    "\n",
    "* Input: nums = [-1,-2,-3]\n",
    "* Output: -6\n",
    " \n",
    "**Constraints:**\n",
    "\n",
    "- 3 <= nums.length <= 104\n",
    "- -1000 <= nums[i] <= 1000"
   ]
  },
  {
   "cell_type": "markdown",
   "id": "ee78dc69",
   "metadata": {},
   "source": [
    "**Procedure:**\n",
    "Sort the list. The maximum product could be the product of the first 3 numbers, or the product of the last 3 numbers, or the product of the first 2 numbers and the last number."
   ]
  },
  {
   "cell_type": "code",
   "execution_count": 64,
   "id": "7f7bbbf8",
   "metadata": {},
   "outputs": [],
   "source": [
    "def maximumProduct(nums):\n",
    "    nums.sort()\n",
    "    return max(nums[-1]*nums[-2]*nums[-3],nums[0]*nums[1]*nums[-1])"
   ]
  },
  {
   "cell_type": "code",
   "execution_count": 65,
   "id": "2fdae838",
   "metadata": {},
   "outputs": [
    {
     "data": {
      "text/plain": [
       "6"
      ]
     },
     "execution_count": 65,
     "metadata": {},
     "output_type": "execute_result"
    }
   ],
   "source": [
    "maximumProduct([1,2,3])"
   ]
  },
  {
   "cell_type": "code",
   "execution_count": 66,
   "id": "5e0e4b4b",
   "metadata": {},
   "outputs": [
    {
     "data": {
      "text/plain": [
       "24"
      ]
     },
     "execution_count": 66,
     "metadata": {},
     "output_type": "execute_result"
    }
   ],
   "source": [
    "maximumProduct([1,2,3,4])"
   ]
  },
  {
   "cell_type": "code",
   "execution_count": 67,
   "id": "968e585d",
   "metadata": {},
   "outputs": [
    {
     "data": {
      "text/plain": [
       "-6"
      ]
     },
     "execution_count": 67,
     "metadata": {},
     "output_type": "execute_result"
    }
   ],
   "source": [
    "maximumProduct([-1,-2,-3])"
   ]
  },
  {
   "cell_type": "markdown",
   "id": "6b3e1a62",
   "metadata": {},
   "source": [
    "## LeetCode Problem: Richest Customer Wealth"
   ]
  },
  {
   "cell_type": "markdown",
   "id": "ce212f06",
   "metadata": {},
   "source": [
    "You are given an m x n integer grid accounts where accounts[i][j] is the amount of money the ith customer has in the jth bank. Return the wealth that the richest customer has.\n",
    "\n",
    "A customer's wealth is the amount of money they have in all their bank accounts. The richest customer is the customer that has the maximum wealth.\n",
    "\n",
    "**Example 1:**\n",
    "\n",
    "* Input: accounts = [[1,2,3],[3,2,1]]\n",
    "* Output: 6\n",
    "\n",
    "**Explanation:**\n",
    "\n",
    "1st customer has wealth = 1 + 2 + 3 = 6,\n",
    "2nd customer has wealth = 3 + 2 + 1 = 6.\n",
    "Both customers are considered the richest with a wealth of 6 each, so return 6.\n",
    "\n",
    "**Example 2:**\n",
    "\n",
    "* Input: accounts = [[1,5],[7,3],[3,5]]\n",
    "* Output: 10\n",
    "\n",
    "**Explanation:** \n",
    "\n",
    "1st customer has wealth = 6,\n",
    "2nd customer has wealth = 10, \n",
    "3rd customer has wealth = 8.\n",
    "The 2nd customer is the richest with a wealth of 10.\n",
    "\n",
    "**Example 3:**\n",
    "\n",
    "* Input: accounts = [[2,8,7],[7,1,3],[1,9,5]]\n",
    "* Output: 17\n",
    "\n",
    "**Constraints:**\n",
    "\n",
    "- m == accounts.length\n",
    "- n == accounts[i].length\n",
    "- 1 <= m, n <= 50\n",
    "- 1 <= accounts[i][j] <= 100"
   ]
  },
  {
   "cell_type": "code",
   "execution_count": 101,
   "id": "8ed645b2",
   "metadata": {},
   "outputs": [],
   "source": [
    "def maximumWealth(accounts):\n",
    "       \n",
    "    return max([sum(account) for account in accounts])"
   ]
  },
  {
   "cell_type": "code",
   "execution_count": 102,
   "id": "b883efcc",
   "metadata": {},
   "outputs": [
    {
     "data": {
      "text/plain": [
       "6"
      ]
     },
     "execution_count": 102,
     "metadata": {},
     "output_type": "execute_result"
    }
   ],
   "source": [
    "maximumWealth([[1,2,3],[3,2,1]])"
   ]
  },
  {
   "cell_type": "code",
   "execution_count": 103,
   "id": "8ca04098",
   "metadata": {},
   "outputs": [
    {
     "data": {
      "text/plain": [
       "10"
      ]
     },
     "execution_count": 103,
     "metadata": {},
     "output_type": "execute_result"
    }
   ],
   "source": [
    "maximumWealth([[1,5],[7,3],[3,5]])"
   ]
  },
  {
   "cell_type": "code",
   "execution_count": 104,
   "id": "75e1449c",
   "metadata": {},
   "outputs": [
    {
     "data": {
      "text/plain": [
       "17"
      ]
     },
     "execution_count": 104,
     "metadata": {},
     "output_type": "execute_result"
    }
   ],
   "source": [
    "maximumWealth([[2,8,7],[7,1,3],[1,9,5]])"
   ]
  },
  {
   "cell_type": "markdown",
   "id": "8b3a5178",
   "metadata": {},
   "source": [
    "## LeetCode Problem: Shuffle the Array"
   ]
  },
  {
   "cell_type": "markdown",
   "id": "9cc34ea5",
   "metadata": {},
   "source": [
    "Given the array nums consisting of 2n elements in the form [x1,x2,...,xn,y1,y2,...,yn].\n",
    "\n",
    "Return the array in the form [x1,y1,x2,y2,...,xn,yn].\n",
    "\n",
    "**Example 1:**\n",
    "\n",
    "- Input: nums = [2,5,1,3,4,7], n = 3\n",
    "- Output: [2,3,5,4,1,7] \n",
    "\n",
    "**Explanation:** \n",
    "  Since x1=2, x2=5, x3=1, y1=3, y2=4, y3=7 then the answer is [2,3,5,4,1,7].\n",
    "\n",
    "**Example 2:**\n",
    "\n",
    "- Input: nums = [1,2,3,4,4,3,2,1], n = 4\n",
    "- Output: [1,4,2,3,3,2,4,1]\n",
    "\n",
    "**Example 3:**\n",
    "\n",
    "- Input: nums = [1,1,2,2], n = 2\n",
    "- Output: [1,2,1,2]\n",
    "\n",
    "**Constraints:**\n",
    "\n",
    "- 1 <= n <= 500\n",
    "- nums.length == 2n\n",
    "- 1 <= nums[i] <= 10^3"
   ]
  },
  {
   "cell_type": "code",
   "execution_count": 78,
   "id": "6e913ec4",
   "metadata": {},
   "outputs": [],
   "source": [
    " def shuffle(nums, n):\n",
    "        \n",
    "    results = []\n",
    "    j = n\n",
    "    for i in range(0, n):\n",
    "        results.append(nums[i])\n",
    "        results.append(nums[j])\n",
    "        j += 1\n",
    "            \n",
    "    return results"
   ]
  },
  {
   "cell_type": "code",
   "execution_count": 79,
   "id": "6e3c3702",
   "metadata": {},
   "outputs": [
    {
     "data": {
      "text/plain": [
       "[2, 3, 5, 4, 1, 7]"
      ]
     },
     "execution_count": 79,
     "metadata": {},
     "output_type": "execute_result"
    }
   ],
   "source": [
    "shuffle([2,5,1,3,4,7], 3)"
   ]
  },
  {
   "cell_type": "code",
   "execution_count": 80,
   "id": "da3c1707",
   "metadata": {},
   "outputs": [
    {
     "data": {
      "text/plain": [
       "[1, 4, 2, 3, 3, 2, 4, 1]"
      ]
     },
     "execution_count": 80,
     "metadata": {},
     "output_type": "execute_result"
    }
   ],
   "source": [
    "shuffle([1,2,3,4,4,3,2,1], 4)"
   ]
  },
  {
   "cell_type": "code",
   "execution_count": 48,
   "id": "e53f0d23",
   "metadata": {},
   "outputs": [
    {
     "data": {
      "text/plain": [
       "[1, 2, 1, 2]"
      ]
     },
     "execution_count": 48,
     "metadata": {},
     "output_type": "execute_result"
    }
   ],
   "source": [
    "shuffle([1,1,2,2], 2)"
   ]
  },
  {
   "cell_type": "markdown",
   "id": "82afba93",
   "metadata": {},
   "source": [
    "## LeetCode Problem:Valid Perfect Square"
   ]
  },
  {
   "cell_type": "markdown",
   "id": "5d20001e",
   "metadata": {},
   "source": [
    "Given a positive integer num, write a function which returns True if num is a perfect square else False.\n",
    "\n",
    "**Follow up:** Do not use any built-in library function such as sqrt.\n",
    "\n",
    "**Example 1:**\n",
    "\n",
    "- Input: num = 16\n",
    "- Output: true\n",
    "\n",
    "**Example 2:**\n",
    "\n",
    "- Input: num = 14\n",
    "- Output: false\n",
    "\n",
    "**Constraints:**\n",
    "\n",
    "- 1 <= num <= 2^31 - 1"
   ]
  },
  {
   "cell_type": "code",
   "execution_count": 81,
   "id": "38f48ba8",
   "metadata": {},
   "outputs": [],
   "source": [
    "def isPerfectSquare(num):\n",
    "    x = num ** 0.5\n",
    "    return x == int(x)"
   ]
  },
  {
   "cell_type": "code",
   "execution_count": 82,
   "id": "d9b4ac2d",
   "metadata": {},
   "outputs": [
    {
     "data": {
      "text/plain": [
       "True"
      ]
     },
     "execution_count": 82,
     "metadata": {},
     "output_type": "execute_result"
    }
   ],
   "source": [
    " isPerfectSquare(16)"
   ]
  },
  {
   "cell_type": "code",
   "execution_count": 83,
   "id": "f6f7ca8b",
   "metadata": {},
   "outputs": [
    {
     "data": {
      "text/plain": [
       "False"
      ]
     },
     "execution_count": 83,
     "metadata": {},
     "output_type": "execute_result"
    }
   ],
   "source": [
    "isPerfectSquare(14)"
   ]
  },
  {
   "cell_type": "markdown",
   "id": "6e78ed28",
   "metadata": {},
   "source": [
    "# Homework 3"
   ]
  },
  {
   "cell_type": "markdown",
   "id": "8e8058e8",
   "metadata": {},
   "source": [
    "## LeetCode Problem:  Power of Two"
   ]
  },
  {
   "cell_type": "markdown",
   "id": "8b2c13c4",
   "metadata": {},
   "source": [
    "Given an integer n, return true if it is a power of two. Otherwise, return false.\n",
    "\n",
    "An integer n is a power of two, if there exists an integer x such that n == 2x.\n",
    "\n",
    " \n",
    "\n",
    "**Example 1:**\n",
    "\n",
    "- Input: n = 1\n",
    "- Output: true\n",
    "- Explanation: 2^0 = 1\n",
    "\n",
    "**Example 2:**\n",
    "\n",
    "- Input: n = 16\n",
    "- Output: true\n",
    "- Explanation: 2^4 = 16\n",
    "\n",
    "**Example 3:**\n",
    "\n",
    "- Input: n = 3\n",
    "- Output: false\n",
    " \n",
    "\n",
    "**Constraints:**\n",
    "\n",
    "-2^31 <= n <= 2^31 - 1"
   ]
  },
  {
   "cell_type": "code",
   "execution_count": 1,
   "id": "7687ba97",
   "metadata": {},
   "outputs": [],
   "source": [
    "def isPowerOfTwo(n):\n",
    "    if n <= 0:   return False\n",
    "    if n == 1:   return True\n",
    "\n",
    "    for i in range(n):\n",
    "        if n % 2 == 0 and n != 2:  \n",
    "            n = n / 2\n",
    "        elif n == 2:  \n",
    "            return True\n",
    "        else:        \n",
    "            return False\n",
    "    return True"
   ]
  },
  {
   "cell_type": "code",
   "execution_count": 2,
   "id": "57a68d19",
   "metadata": {},
   "outputs": [
    {
     "data": {
      "text/plain": [
       "True"
      ]
     },
     "execution_count": 2,
     "metadata": {},
     "output_type": "execute_result"
    }
   ],
   "source": [
    "isPowerOfTwo(1)"
   ]
  },
  {
   "cell_type": "code",
   "execution_count": 3,
   "id": "ce0a8382",
   "metadata": {},
   "outputs": [
    {
     "data": {
      "text/plain": [
       "True"
      ]
     },
     "execution_count": 3,
     "metadata": {},
     "output_type": "execute_result"
    }
   ],
   "source": [
    "isPowerOfTwo(16)"
   ]
  },
  {
   "cell_type": "code",
   "execution_count": 4,
   "id": "564abfc3",
   "metadata": {},
   "outputs": [
    {
     "data": {
      "text/plain": [
       "False"
      ]
     },
     "execution_count": 4,
     "metadata": {},
     "output_type": "execute_result"
    }
   ],
   "source": [
    "isPowerOfTwo(3)"
   ]
  },
  {
   "cell_type": "markdown",
   "id": "83d16563",
   "metadata": {},
   "source": [
    "## LeetCode Problem:  Contains Duplicate"
   ]
  },
  {
   "cell_type": "markdown",
   "id": "a126ec73",
   "metadata": {},
   "source": [
    "Given an integer array **nums**, return true if any value appears at least twice in the array, and return false if every element is distinct.\n",
    "\n",
    " \n",
    "\n",
    "**Example 1:**\n",
    "\n",
    "- Input: nums = [1,2,3,1]\n",
    "- Output: true\n",
    "\n",
    "**Example 2:**\n",
    "\n",
    "- Input: nums = [1,2,3,4]\n",
    "- Output: false\n",
    "\n",
    "**Example 3:**\n",
    "\n",
    "- Input: nums = [1,1,1,3,3,4,3,2,4,2]\n",
    "- Output: true"
   ]
  },
  {
   "cell_type": "code",
   "execution_count": 15,
   "id": "a07ea1c4",
   "metadata": {},
   "outputs": [],
   "source": [
    "def containsDuplicate(nums):\n",
    "    num = set()\n",
    "    for i in nums:\n",
    "        if i in num:\n",
    "            return True\n",
    "        num.add(i)\n",
    "    return False"
   ]
  },
  {
   "cell_type": "code",
   "execution_count": 16,
   "id": "68e82d1b",
   "metadata": {},
   "outputs": [
    {
     "data": {
      "text/plain": [
       "True"
      ]
     },
     "execution_count": 16,
     "metadata": {},
     "output_type": "execute_result"
    }
   ],
   "source": [
    "containsDuplicate([1,2,3,1])"
   ]
  },
  {
   "cell_type": "code",
   "execution_count": 17,
   "id": "cecd12a2",
   "metadata": {},
   "outputs": [
    {
     "data": {
      "text/plain": [
       "False"
      ]
     },
     "execution_count": 17,
     "metadata": {},
     "output_type": "execute_result"
    }
   ],
   "source": [
    "containsDuplicate([1,2,3,4])"
   ]
  },
  {
   "cell_type": "markdown",
   "id": "be282c86",
   "metadata": {},
   "source": [
    "**Solve using dictionary:**"
   ]
  },
  {
   "cell_type": "code",
   "execution_count": 12,
   "id": "0b92bfe5",
   "metadata": {},
   "outputs": [],
   "source": [
    "def containsDuplicate(nums):\n",
    "    dic = {}\n",
    "    for i in range(len(nums)):\n",
    "        if nums[i] in dic:\n",
    "            return True\n",
    "        else:\n",
    "            dic[nums[i]] = 1\n",
    "    return False"
   ]
  },
  {
   "cell_type": "code",
   "execution_count": 13,
   "id": "84f6b956",
   "metadata": {},
   "outputs": [
    {
     "data": {
      "text/plain": [
       "True"
      ]
     },
     "execution_count": 13,
     "metadata": {},
     "output_type": "execute_result"
    }
   ],
   "source": [
    "containsDuplicate([1,2,3,1])"
   ]
  },
  {
   "cell_type": "code",
   "execution_count": 14,
   "id": "5ee59a5c",
   "metadata": {},
   "outputs": [
    {
     "data": {
      "text/plain": [
       "False"
      ]
     },
     "execution_count": 14,
     "metadata": {},
     "output_type": "execute_result"
    }
   ],
   "source": [
    "containsDuplicate([1,2,3,4])"
   ]
  },
  {
   "cell_type": "markdown",
   "id": "ff91c8ec",
   "metadata": {},
   "source": [
    "## LeetCode Problem: Two Sum"
   ]
  },
  {
   "cell_type": "markdown",
   "id": "75888230",
   "metadata": {},
   "source": [
    "Given an array of integers **nums** and an integer **target**, return indices of the two numbers such that they add up to target.\n",
    "\n",
    "You may assume that each input would have exactly one solution, and you may not use the same element twice.\n",
    "\n",
    "You can return the answer in any order.\n",
    "\n",
    " \n",
    "\n",
    "**Example 1:**\n",
    "\n",
    "- Input: nums = [2,7,11,15], target = 9\n",
    "- Output: [0,1]\n",
    "- Explanation: Because nums[0] + nums[1] == 9, we return [0, 1].\n",
    "\n",
    "**Example 2:**\n",
    "\n",
    "- Input: nums = [3,2,4], target = 6\n",
    "- Output: [1,2]\n",
    "\n",
    "**Example 3:**\n",
    "\n",
    "- Input: nums = [3,3], target = 6\n",
    "- Output: [0,1]"
   ]
  },
  {
   "cell_type": "code",
   "execution_count": 1,
   "id": "3b835606",
   "metadata": {},
   "outputs": [],
   "source": [
    "def twoSum(nums, target):\n",
    "    res = []\n",
    "    for i in range(0, len(nums)):\n",
    "        for j in range(i+1, len(nums)):\n",
    "            n = nums[i] + nums[j]\n",
    "            if n == target:\n",
    "                res.append(i)\n",
    "                res.append(j)\n",
    "                return res"
   ]
  },
  {
   "cell_type": "code",
   "execution_count": 2,
   "id": "b07d80b7",
   "metadata": {},
   "outputs": [
    {
     "data": {
      "text/plain": [
       "[0, 1]"
      ]
     },
     "execution_count": 2,
     "metadata": {},
     "output_type": "execute_result"
    }
   ],
   "source": [
    "twoSum([2,7,11,15], 9)"
   ]
  },
  {
   "cell_type": "code",
   "execution_count": 3,
   "id": "ffd6cda3",
   "metadata": {},
   "outputs": [
    {
     "data": {
      "text/plain": [
       "[1, 2]"
      ]
     },
     "execution_count": 3,
     "metadata": {},
     "output_type": "execute_result"
    }
   ],
   "source": [
    "twoSum([3,2,4], 6)"
   ]
  },
  {
   "cell_type": "code",
   "execution_count": 4,
   "id": "e5818d1a",
   "metadata": {},
   "outputs": [
    {
     "data": {
      "text/plain": [
       "[0, 1]"
      ]
     },
     "execution_count": 4,
     "metadata": {},
     "output_type": "execute_result"
    }
   ],
   "source": [
    "twoSum([3,3], 6)"
   ]
  }
 ],
 "metadata": {
  "kernelspec": {
   "display_name": "Python 3",
   "language": "python",
   "name": "python3"
  },
  "language_info": {
   "codemirror_mode": {
    "name": "ipython",
    "version": 3
   },
   "file_extension": ".py",
   "mimetype": "text/x-python",
   "name": "python",
   "nbconvert_exporter": "python",
   "pygments_lexer": "ipython3",
   "version": "3.8.8"
  }
 },
 "nbformat": 4,
 "nbformat_minor": 5
}
